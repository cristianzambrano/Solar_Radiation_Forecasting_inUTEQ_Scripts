{
  "nbformat": 4,
  "nbformat_minor": 0,
  "metadata": {
    "colab": {
      "provenance": []
    },
    "kernelspec": {
      "name": "python3",
      "display_name": "Python 3"
    },
    "language_info": {
      "name": "python"
    }
  },
  "cells": [
    {
      "cell_type": "markdown",
      "source": [
        "## **Extracción de Datos**"
      ],
      "metadata": {
        "id": "rw1_bqaMI7FE"
      }
    },
    {
      "cell_type": "code",
      "execution_count": null,
      "metadata": {
        "id": "AJEcxFQ0IWSZ"
      },
      "outputs": [],
      "source": [
        "import os\n",
        "import datetime\n",
        "import pandas as pd\n",
        "import random\n",
        "\n",
        "def getData(fichero_path,frequencies):\n",
        "    df = pd.read_csv(fichero_path, sep=\";\", skiprows=3)\n",
        "    df.rename(columns={'Unnamed: 1':'Fecha','Unnamed: 2':'Hora', 'I (W/m2)':'Radiacion','T (K)':'Temperatura'},inplace=True)\n",
        "    df = df[['Fecha', 'Hora', 'Radiacion', 'Temperatura']].copy()\n",
        "    df=df[df.Hora.isin(frequencies)]\n",
        "    #df['Fecha'] = pd.to_datetime(df['Fecha'], format='%Y-%m-%d').dt.strftime('%m')\n",
        "    df['Hora'] = pd.to_datetime(df['Hora'], format='%H:%M:%S').dt.strftime('%H')\n",
        "    return df[['Fecha', 'Hora', 'Radiacion', 'Temperatura']]\n",
        "\n",
        "\n",
        "path_mediciones = 'MEDICIONES'\n",
        "datos= pd.DataFrame(columns=['Fecha', 'Hora', 'Radiacion', 'Temperatura'])\n",
        "frequencies= pd.date_range(start='2019-01-01 00:00:00', end='2019-01-02 00:00:00', freq='5T').strftime(\"%H:%M:%S\")\n",
        "\n",
        "with os.scandir(path_mediciones) as carpetas:\n",
        "    subdirectorios = [carpeta.name for carpeta in carpetas if carpeta.is_dir()]\n",
        "\n",
        "for carpeta in subdirectorios:\n",
        "    print(carpeta)\n",
        "    with os.scandir(path_mediciones + '\\\\' + carpeta) as ficheros:\n",
        "        lista_ficheros = list(ficheros)\n",
        "        num_el=len(lista_ficheros)\n",
        "        if(num_el>10):\n",
        "            pos_ficheros= random.sample(range(num_el), 10)\n",
        "        else:\n",
        "            pos_ficheros= range(num_el)\n",
        "        for pos in pos_ficheros:\n",
        "            print(lista_ficheros[pos].path)\n",
        "            datos_fichero=getData(lista_ficheros[pos].path,frequencies)\n",
        "            datos = pd.concat([datos,datos_fichero])\n",
        "\n",
        "datos.to_csv(\"datos.csv\",index=False)\n",
        "\n",
        "\n"
      ]
    }
  ]
}